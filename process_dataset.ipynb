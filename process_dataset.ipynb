{
 "cells": [
  {
   "cell_type": "code",
   "execution_count": 4,
   "metadata": {},
   "outputs": [],
   "source": [
    "%reload_ext autoreload\n",
    "%autoreload 2\n",
    "\n",
    "import cv2\n",
    "import numpy as np\n",
    "import os\n",
    "from aruco import detect_aruco, draw_aruco, select_aruco_poses, PoseSelectors\n",
    "from segment_boxes import segment_and_draw_boxes_by_aruco, segment_boxes_by_color\n",
    "from utils import show"
   ]
  },
  {
   "cell_type": "code",
   "execution_count": 5,
   "metadata": {},
   "outputs": [],
   "source": [
    "calib = np.load('phitz/calib.npz')\n",
    "K = calib['K']\n",
    "D = calib['D']\n",
    "\n",
    "dict_4x4 = cv2.aruco.Dictionary_get(cv2.aruco.DICT_4X4_1000)\n",
    "params = cv2.aruco.DetectorParameters_create()\n",
    "params.cornerRefinementMethod = cv2.aruco.CORNER_REFINE_APRILTAG\n",
    "params.perspectiveRemovePixelPerCell = 8\n",
    "params.perspectiveRemoveIgnoredMarginPerCell = 0.26"
   ]
  },
  {
   "cell_type": "code",
   "execution_count": 5,
   "metadata": {},
   "outputs": [],
   "source": [
    "# side\n",
    "folder = 'dataset/side/accepted/'\n",
    "files = os.listdir(folder + 'aruco')\n",
    "for f in files:\n",
    "    image = cv2.imread(folder + 'aruco/' + f)\n",
    "    box_image = cv2.imread(folder + 'box/' + f)\n",
    "    arucos = detect_aruco(image, K=K, D=D, aruco_sizes=0.0295,\n",
    "        use_generic=True, subtract=100, aruco_dict=dict_4x4, params=params)\n",
    "    arucos = select_aruco_poses(arucos, PoseSelectors.Z_axis_up)\n",
    "    draw = box_image.copy()\n",
    "    segment_and_draw_boxes_by_aruco(draw, arucos, K, D)\n",
    "    cv2.imwrite(folder + 'segmented/' + f, draw)"
   ]
  },
  {
   "cell_type": "code",
   "execution_count": 6,
   "metadata": {},
   "outputs": [],
   "source": [
    "# top\n",
    "folder = 'dataset/top/accepted/'\n",
    "files = os.listdir(folder + 'aruco')\n",
    "for f in files:\n",
    "    image = cv2.imread(folder + 'aruco/' + f)\n",
    "    box_image = cv2.imread(folder + 'box/' + f)\n",
    "    arucos = detect_aruco(image, K=K, D=D, aruco_sizes=0.0295,\n",
    "        use_generic=True, subtract=100, aruco_dict=dict_4x4, params=params)\n",
    "    arucos = select_aruco_poses(arucos, PoseSelectors.Z_axis_back)\n",
    "    draw = box_image.copy()\n",
    "    segment_and_draw_boxes_by_aruco(draw, arucos, K, D)\n",
    "    cv2.imwrite(folder + 'segmented/' + f, draw)"
   ]
  },
  {
   "cell_type": "code",
   "execution_count": null,
   "metadata": {},
   "outputs": [],
   "source": [
    "folders = [\"dataset/side/accepted/\", \"dataset/top/accepted/\"]\n",
    "for folder in folders:\n",
    "    files = os.listdir(folder + \"box/\")\n",
    "    for f in files:\n",
    "        image_file = folder + \"box/\" + f\n",
    "        image = cv2.imread(image_file)\n",
    "        mask, _ = segment_boxes_by_color(image)\n",
    "        polygons, _ = cv2.findContours(mask, cv2.RETR_EXTERNAL, cv2.CHAIN_APPROX_SIMPLE)\n",
    "        draw = image.copy()\n",
    "        cv2.polylines(draw, polygons, True, (255, 255, 255), thickness=1)\n",
    "        overlay = draw.copy()\n",
    "        for polygon in polygons:\n",
    "            cv2.fillPoly(overlay, [polygon], (255, 255, 255))\n",
    "        cv2.addWeighted(draw, 0.7, overlay, 0.3, 0, dst=draw)\n",
    "        cv2.imwrite(folder + \"masks/\" + f, mask)\n",
    "        cv2.imwrite(folder + \"segmented_by_color/\" + f, draw)"
   ]
  },
  {
   "cell_type": "code",
   "execution_count": 10,
   "metadata": {},
   "outputs": [],
   "source": [
    "# test\n",
    "image_file = 'dataset/top/accepted/aruco/0001.png'\n",
    "image = cv2.imread(image_file)\n",
    "arucos = detect_aruco(image, K=K, D=D, aruco_sizes=0.0295,\n",
    "    use_generic=True, subtrack=100, aruco_dict=dict_4x4, params=params)\n",
    "arucos = select_aruco_poses(arucos, PoseSelectors.worst)\n",
    "draw = image.copy()\n",
    "draw_aruco(draw, arucos, False, False, K, D)\n",
    "show(draw)"
   ]
  }
 ],
 "metadata": {
  "interpreter": {
   "hash": "22f35026c99b1f6887daf6f0d1395c99737793caec2cc4fa319b8c5faf2576e1"
  },
  "kernelspec": {
   "display_name": "Python 3.8.3 ('base')",
   "language": "python",
   "name": "python3"
  },
  "language_info": {
   "codemirror_mode": {
    "name": "ipython",
    "version": 3
   },
   "file_extension": ".py",
   "mimetype": "text/x-python",
   "name": "python",
   "nbconvert_exporter": "python",
   "pygments_lexer": "ipython3",
   "version": "3.8.3"
  },
  "orig_nbformat": 4
 },
 "nbformat": 4,
 "nbformat_minor": 2
}
