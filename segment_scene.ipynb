{
 "cells": [
  {
   "cell_type": "code",
   "execution_count": 1,
   "metadata": {},
   "outputs": [],
   "source": [
    "%reload_ext autoreload\n",
    "%autoreload 2\n",
    "\n",
    "import cv2\n",
    "import numpy as np\n",
    "from segment_scene import segment_scene_colorful\n",
    "from utils import show\n",
    "from params import K, D"
   ]
  },
  {
   "cell_type": "code",
   "execution_count": null,
   "metadata": {},
   "outputs": [],
   "source": [
    "# segment scene top\n",
    "view = \"top\"\n",
    "image_file = \"data/calibrate_segmentation/top.jpg\"\n",
    "image = cv2.imread(image_file)\n",
    "segmentation, (num_red, num_blue) = segment_scene_colorful(image, view)\n",
    "print(f\"Segmented {num_red} red, {num_blue} blue\")\n",
    "show(segmentation)"
   ]
  },
  {
   "cell_type": "code",
   "execution_count": null,
   "metadata": {},
   "outputs": [],
   "source": [
    "# segment scene front\n",
    "view = \"front\"\n",
    "image_file = \"data/calibrate_segmentation/front.jpg\"\n",
    "image = cv2.imread(image_file)\n",
    "segmentation, (num_red, num_blue) = segment_scene_colorful(image, view)\n",
    "print(f\"Segmented {num_red} red, {num_blue} blue\")\n",
    "show(segmentation)"
   ]
  }
 ],
 "metadata": {
  "interpreter": {
   "hash": "22f35026c99b1f6887daf6f0d1395c99737793caec2cc4fa319b8c5faf2576e1"
  },
  "kernelspec": {
   "display_name": "Python 3.8.3 ('base')",
   "language": "python",
   "name": "python3"
  },
  "language_info": {
   "codemirror_mode": {
    "name": "ipython",
    "version": 3
   },
   "file_extension": ".py",
   "mimetype": "text/x-python",
   "name": "python",
   "nbconvert_exporter": "python",
   "pygments_lexer": "ipython3",
   "version": "3.8.3"
  },
  "orig_nbformat": 4
 },
 "nbformat": 4,
 "nbformat_minor": 2
}
