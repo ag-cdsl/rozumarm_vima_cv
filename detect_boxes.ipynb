{
 "cells": [
  {
   "cell_type": "code",
   "execution_count": 5,
   "metadata": {},
   "outputs": [],
   "source": [
    "%reload_ext autoreload\n",
    "%autoreload 2\n",
    "\n",
    "import cv2\n",
    "import numpy as np\n",
    "import os\n",
    "from aruco import draw_aruco\n",
    "from calibrate_table import calibrate_table_by_aruco, calibrate_table_by_markers\n",
    "from utils import show\n",
    "from detect_boxes import detect_boxes, detect_boxes_segm, detect_boxes_visual\n",
    "from params import table_aruco_size, box_aruco_size, box_size, K, D"
   ]
  },
  {
   "cell_type": "code",
   "execution_count": null,
   "metadata": {},
   "outputs": [],
   "source": [
    "# detect boxes by aruco\n",
    "view = \"front\"\n",
    "image_file = \"data/test_boxes_aruco_2/0000.jpg\"\n",
    "image = cv2.imread(image_file)\n",
    "table_frame, _ = calibrate_table_by_aruco(image, view, K, D, table_aruco_size)\n",
    "boxes_positions, boxes_orientations = \\\n",
    "    detect_boxes(image, view, K, D, table_frame, box_aruco_size, box_size)\n",
    "print(boxes_positions)"
   ]
  },
  {
   "cell_type": "code",
   "execution_count": 2,
   "metadata": {},
   "outputs": [],
   "source": [
    "# detect boxes by color\n",
    "view = \"front\"\n",
    "image_file = \"data/test_segmentation/0001.jpg\"\n",
    "image = cv2.imread(image_file)\n",
    "table_frame, _ = calibrate_table_by_aruco(image, view, K, D, table_aruco_size)\n",
    "boxes_positions, boxes_orientations = \\\n",
    "    detect_boxes_segm(image, view, K, D, table_frame, box_size)\n",
    "print(boxes_positions)"
   ]
  },
  {
   "cell_type": "code",
   "execution_count": null,
   "metadata": {},
   "outputs": [],
   "source": [
    "# detect boxes visual\n",
    "view = \"top\"\n",
    "image_file = \"data/calibrate_table_by_markers/0000.jpg\"\n",
    "image = cv2.imread(image_file)\n",
    "table_transform = calibrate_table_by_markers(image, view, K, D)\n",
    "boxes_positions, boxes_orientations = detect_boxes_visual(image, view, K, D, table_transform)\n",
    "print(boxes_positions)"
   ]
  }
 ],
 "metadata": {
  "interpreter": {
   "hash": "22f35026c99b1f6887daf6f0d1395c99737793caec2cc4fa319b8c5faf2576e1"
  },
  "kernelspec": {
   "display_name": "Python 3.8.3 ('base')",
   "language": "python",
   "name": "python3"
  },
  "language_info": {
   "codemirror_mode": {
    "name": "ipython",
    "version": 3
   },
   "file_extension": ".py",
   "mimetype": "text/x-python",
   "name": "python",
   "nbconvert_exporter": "python",
   "pygments_lexer": "ipython3",
   "version": "3.10.10"
  },
  "orig_nbformat": 4
 },
 "nbformat": 4,
 "nbformat_minor": 2
}
