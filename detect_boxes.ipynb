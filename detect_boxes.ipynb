{
 "cells": [
  {
   "cell_type": "code",
   "execution_count": null,
   "metadata": {},
   "outputs": [],
   "source": [
    "%reload_ext autoreload\n",
    "%autoreload 2\n",
    "\n",
    "import cv2\n",
    "import numpy as np\n",
    "import os\n",
    "from aruco import draw_aruco\n",
    "from calibrate_table import calibrate_table\n",
    "from utils import show\n",
    "from detect_boxes import detect_boxes_segm\n",
    "from params import table_aruco_size, box_aruco_size, box_size, K, D"
   ]
  },
  {
   "cell_type": "code",
   "execution_count": null,
   "metadata": {},
   "outputs": [],
   "source": [
    "# detect boxes by color\n",
    "view = \"front\"\n",
    "image_file = \"data/test_aruco_2/0000.jpg\"\n",
    "image = cv2.imread(image_file)\n",
    "camera2table, _ = calibrate_table(image, view, K, D, table_aruco_size)\n",
    "boxes_positions, boxes_orientations = detect_boxes_segm(image, view, K, D, camera2table, box_size)"
   ]
  }
 ],
 "metadata": {
  "language_info": {
   "name": "python"
  },
  "orig_nbformat": 4
 },
 "nbformat": 4,
 "nbformat_minor": 2
}
