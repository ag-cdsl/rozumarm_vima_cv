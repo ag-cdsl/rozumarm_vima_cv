{
 "cells": [
  {
   "cell_type": "code",
   "execution_count": 1,
   "metadata": {},
   "outputs": [],
   "source": [
    "%reload_ext autoreload\n",
    "%autoreload 2\n",
    "\n",
    "import cv2\n",
    "import numpy as np\n",
    "from utils import select_roi, get_color_range\n",
    "import pickle\n",
    "from camera_utils import stream\n",
    "from params import top_camera_id, front_camera_id"
   ]
  },
  {
   "cell_type": "code",
   "execution_count": 2,
   "metadata": {},
   "outputs": [],
   "source": [
    "# load calibration images from files\n",
    "top_image_file = \"data/calibrate_segmentation/top.jpg\"\n",
    "front_image_file = \"data/calibrate_segmentation/front.jpg\"\n",
    "\n",
    "top_image = cv2.imread(top_image_file)\n",
    "front_image = cv2.imread(front_image_file)"
   ]
  },
  {
   "cell_type": "code",
   "execution_count": 2,
   "metadata": {},
   "outputs": [],
   "source": [
    "# read calibration images from cameras\n",
    "top_cam = cv2.VideoCapture(top_camera_id)\n",
    "top_cam.set(cv2.CAP_PROP_FRAME_WIDTH, 1280)\n",
    "top_cam.set(cv2.CAP_PROP_FRAME_HEIGHT, 1024)\n",
    "top_camera = lambda: top_cam.read()[1]\n",
    "stream(top_camera, window_name=\"top camera\")\n",
    "top_image = top_camera()\n",
    "top_cam.release()\n",
    "\n",
    "front_cam = cv2.VideoCapture(front_camera_id)\n",
    "front_cam.set(cv2.CAP_PROP_FRAME_WIDTH, 1280)\n",
    "front_cam.set(cv2.CAP_PROP_FRAME_HEIGHT, 1024)\n",
    "front_camera = lambda: front_cam.read()[1]\n",
    "stream(front_camera, window_name=\"front camera\")\n",
    "front_image = front_camera()\n",
    "front_cam.release()"
   ]
  },
  {
   "cell_type": "code",
   "execution_count": null,
   "metadata": {},
   "outputs": [],
   "source": [
    "# calibrate segmentation roi\n",
    "top_working_area_roi = select_roi(top_image, full_by_default=True, window_name=\"working area roi\")\n",
    "top_goal_and_stop_line_roi = select_roi(top_image, full_by_default=True, window_name=\"goal and stop line roi\")\n",
    "\n",
    "front_working_area_roi = select_roi(front_image, full_by_default=True, window_name=\"working area roi\")\n",
    "front_goal_and_stop_line_roi = select_roi(front_image, full_by_default=True, window_name=\"goal and stop line roi\")\n",
    "\n",
    "top_roi = {\"working_area\": top_working_area_roi, \"goal_and_stop_line\": top_goal_and_stop_line_roi}\n",
    "front_roi = {\"working_area\": front_working_area_roi, \"goal_and_stop_line\": front_goal_and_stop_line_roi}\n",
    "roi = {\"top\": top_roi, \"front\": front_roi}\n",
    "\n",
    "print(f\"Working area roi:\")\n",
    "print(f\"    top: x_range, y_range = {top_working_area_roi}\")\n",
    "print(f\"    front: x_range, y_range = {front_working_area_roi}\")\n",
    "print(f\"Goal and stop line roi:\")\n",
    "print(f\"    top: x_range, y_range = {top_goal_and_stop_line_roi}\")\n",
    "print(f\"    front: x_range, y_range = {front_goal_and_stop_line_roi}\")"
   ]
  },
  {
   "cell_type": "code",
   "execution_count": null,
   "metadata": {},
   "outputs": [],
   "source": [
    "output_file = \"data/segmentation_roi.pickle\"\n",
    "with open(output_file, 'wb') as f:\n",
    "    pickle.dump(roi, f, protocol=pickle.HIGHEST_PROTOCOL)"
   ]
  }
 ],
 "metadata": {
  "interpreter": {
   "hash": "22f35026c99b1f6887daf6f0d1395c99737793caec2cc4fa319b8c5faf2576e1"
  },
  "kernelspec": {
   "display_name": "Python 3.8.3 ('base')",
   "language": "python",
   "name": "python3"
  },
  "language_info": {
   "codemirror_mode": {
    "name": "ipython",
    "version": 3
   },
   "file_extension": ".py",
   "mimetype": "text/x-python",
   "name": "python",
   "nbconvert_exporter": "python",
   "pygments_lexer": "ipython3",
   "version": "3.8.3"
  },
  "orig_nbformat": 4
 },
 "nbformat": 4,
 "nbformat_minor": 2
}
