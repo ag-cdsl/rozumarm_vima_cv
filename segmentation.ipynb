{
 "cells": [
  {
   "cell_type": "code",
   "execution_count": null,
   "metadata": {},
   "outputs": [],
   "source": [
    "%reload_ext autoreload\n",
    "%autoreload 2\n",
    "\n",
    "import cv2\n",
    "import numpy as np\n",
    "from segmentation import segment_scene_colorful\n",
    "from utils import show"
   ]
  },
  {
   "cell_type": "code",
   "execution_count": null,
   "metadata": {},
   "outputs": [],
   "source": [
    "calib = np.load('phitz/calib.npz')\n",
    "K = calib['K']\n",
    "D = calib['D']"
   ]
  },
  {
   "cell_type": "code",
   "execution_count": null,
   "metadata": {},
   "outputs": [],
   "source": [
    "# segment scene\n",
    "view = \"top\"\n",
    "image_file = \"phitz/test/0000.jpg\"\n",
    "image = cv2.imread(image_file)\n",
    "segmentation, (num_red, num_blue) = segment_scene_colorful(image, view)\n",
    "print(f\"Segmented {num_red} red, {num_blue} blue\")\n",
    "show(segmentation)\n",
    "# cv2.imwrite(\"segmentation.jpg\", segmentation)"
   ]
  }
 ],
 "metadata": {
  "language_info": {
   "name": "python"
  },
  "orig_nbformat": 4
 },
 "nbformat": 4,
 "nbformat_minor": 2
}
