{
 "cells": [
  {
   "cell_type": "code",
   "execution_count": 1,
   "metadata": {},
   "outputs": [],
   "source": [
    "%reload_ext autoreload\n",
    "%autoreload 2\n",
    "\n",
    "import cv2\n",
    "import numpy as np\n",
    "from segmentation import segment_scene_colorful\n",
    "from utils import show\n",
    "from params import K, D\n",
    "from utils import get_roi, get_color_range"
   ]
  },
  {
   "cell_type": "code",
   "execution_count": null,
   "metadata": {},
   "outputs": [],
   "source": [
    "# segment scene\n",
    "view = \"front\"\n",
    "image_file = \"data/test_segmentation/0000.jpg\"\n",
    "image = cv2.imread(image_file)\n",
    "segmentation, (num_red, num_blue) = segment_scene_colorful(image, view)\n",
    "print(f\"Segmented {num_red} red, {num_blue} blue\")\n",
    "show(segmentation)"
   ]
  },
  {
   "cell_type": "code",
   "execution_count": null,
   "metadata": {},
   "outputs": [],
   "source": [
    "# calibrate segmentation\n",
    "top_image_file = \"top.jpg\"\n",
    "top_image = cv2.imread(top_image_file)\n",
    "top_boxes_roi = get_roi(top_image, \"boxes roi\")\n",
    "top_goal_and_stop_line_roi = get_roi(top_image, \"goal and stop line roi\")\n",
    "\n",
    "front_image_file = \"front.jpg\"\n",
    "front_image = cv2.imread(front_image_file)\n",
    "front_boxes_roi = get_roi(front_image, \"boxes roi\")\n",
    "front_goal_and_stop_line_roi = get_roi(front_image, \"goal and stop line roi\")\n",
    "\n",
    "print(f\"Boxes roi:\")\n",
    "print(f\"    top: x_range, y_range = {top_boxes_roi}\")\n",
    "print(f\"    front: x_range, y_range = {front_boxes_roi}\")\n",
    "print(f\"Goal and stop line roi:\")\n",
    "print(f\"    top: x_range, y_range = {top_goal_and_stop_line_roi}\")\n",
    "print(f\"    front: x_range, y_range = {front_goal_and_stop_line_roi}\")"
   ]
  }
 ],
 "metadata": {
  "interpreter": {
   "hash": "22f35026c99b1f6887daf6f0d1395c99737793caec2cc4fa319b8c5faf2576e1"
  },
  "kernelspec": {
   "display_name": "Python 3.8.3 ('base')",
   "language": "python",
   "name": "python3"
  },
  "language_info": {
   "codemirror_mode": {
    "name": "ipython",
    "version": 3
   },
   "file_extension": ".py",
   "mimetype": "text/x-python",
   "name": "python",
   "nbconvert_exporter": "python",
   "pygments_lexer": "ipython3",
   "version": "3.8.3"
  },
  "orig_nbformat": 4
 },
 "nbformat": 4,
 "nbformat_minor": 2
}
