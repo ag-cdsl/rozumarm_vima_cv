{
 "cells": [
  {
   "cell_type": "code",
   "execution_count": null,
   "metadata": {},
   "outputs": [],
   "source": [
    "%reload_ext autoreload\n",
    "%autoreload 2\n",
    "\n",
    "import cv2\n",
    "import numpy as np\n",
    "import os\n",
    "from aruco import draw_aruco\n",
    "from calibrate_table import calibrate_table\n",
    "from utils import show\n",
    "from detection import detect_boxes_segm, detect_table_aruco, detect_boxes_aruco"
   ]
  },
  {
   "cell_type": "code",
   "execution_count": null,
   "metadata": {},
   "outputs": [],
   "source": [
    "calib = np.load('phitz/calib.npz')\n",
    "K = calib['K']\n",
    "D = calib['D']"
   ]
  },
  {
   "cell_type": "code",
   "execution_count": null,
   "metadata": {},
   "outputs": [],
   "source": [
    "table_aruco_size = 0.132\n",
    "box_aruco_size = 0.0172\n",
    "box_size = 0.03"
   ]
  },
  {
   "cell_type": "code",
   "execution_count": null,
   "metadata": {},
   "outputs": [],
   "source": [
    "# detect table aruco\n",
    "view = \"top\"\n",
    "image_file = \"phitz/table_markers/1.jpg\"\n",
    "image = cv2.imread(image_file)\n",
    "arucos = detect_table_aruco(image, view, K, D, table_aruco_size)\n",
    "draw = image.copy()\n",
    "draw_aruco(draw, arucos, draw_rejected_only=False, draw_ids=False, K=K, D=D)\n",
    "show(draw)"
   ]
  },
  {
   "cell_type": "code",
   "execution_count": null,
   "metadata": {},
   "outputs": [],
   "source": [
    "# detect boxes aruco\n",
    "view = \"top\"\n",
    "folder = \"phitz/test_aruco/\"\n",
    "image_files = sorted(os.listdir(folder))\n",
    "bad_image_files = list()\n",
    "for image_file in image_files:\n",
    "    image = cv2.imread(folder + image_file)\n",
    "    arucos = detect_boxes_aruco(image, view, K, D, box_aruco_size)\n",
    "    draw = image.copy()\n",
    "    draw_aruco(draw, arucos, draw_rejected_only=False, draw_ids=False, K=K, D=D)\n",
    "    # show(draw)\n",
    "    # cv2.imwrite(\"phitz/test_aruco_vis/\" + image_file, draw)\n",
    "    if arucos.n != 2:\n",
    "        print(f\"{image_file}: {arucos.n}\")\n",
    "        bad_image_files.append(image_file)\n",
    "print(len(bad_image_files))\n",
    "print(bad_image_files)"
   ]
  },
  {
   "cell_type": "code",
   "execution_count": null,
   "metadata": {},
   "outputs": [],
   "source": [
    "# detect boxes by color\n",
    "view = \"top\"\n",
    "image_file = \"phitz/test_aruco_2/0000.jpg\"\n",
    "image = cv2.imread(image_file)\n",
    "camera2table, _ = calibrate_table(image, view, K, D, table_aruco_size)\n",
    "boxes_positions, boxes_orientations = detect_boxes_segm(image, view, K, D, camera2table, box_size)"
   ]
  }
 ],
 "metadata": {
  "language_info": {
   "name": "python"
  },
  "orig_nbformat": 4
 },
 "nbformat": 4,
 "nbformat_minor": 2
}
