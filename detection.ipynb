{
 "cells": [
  {
   "cell_type": "code",
   "execution_count": 2,
   "metadata": {},
   "outputs": [],
   "source": [
    "%reload_ext autoreload\n",
    "%autoreload 2\n",
    "\n",
    "import cv2\n",
    "import numpy as np\n",
    "import os\n",
    "from aruco import draw_aruco\n",
    "from utils import show\n",
    "from detection import detect_table_aruco, detect_boxes_aruco\n",
    "from params import table_aruco_size, box_aruco_size, box_size, K, D, \\\n",
    "    top_camera_id, front_camera_id\n",
    "from utils import get_image_from_camera"
   ]
  },
  {
   "cell_type": "code",
   "execution_count": null,
   "metadata": {},
   "outputs": [],
   "source": [
    "# detect table aruco\n",
    "\n",
    "if True:\n",
    "    # read image from file\n",
    "    view = \"front\"\n",
    "    image_file = \"data/test_aruco/0000.jpg\"\n",
    "    image = cv2.imread(image_file)\n",
    "else:\n",
    "    # read image from camera\n",
    "    view = \"top\"\n",
    "    image = get_image_from_camera(top_camera_id)\n",
    "\n",
    "arucos = detect_table_aruco(image, view, K, D, table_aruco_size)\n",
    "draw = image.copy()\n",
    "draw_aruco(draw, arucos, draw_rejected_only=False, draw_ids=False, K=K, D=D)\n",
    "\n",
    "show(draw)"
   ]
  },
  {
   "cell_type": "code",
   "execution_count": null,
   "metadata": {},
   "outputs": [],
   "source": [
    "# detect boxes aruco\n",
    "\n",
    "if True:\n",
    "    # read image from file\n",
    "    view = \"front\"\n",
    "    image_file = \"data/test_aruco/0000.jpg\"\n",
    "    image = cv2.imread(image_file)\n",
    "else:\n",
    "    # read image from camera\n",
    "    view = \"top\"\n",
    "    image = get_image_from_camera(top_camera_id)\n",
    "\n",
    "arucos = detect_boxes_aruco(image, view, K, D, box_aruco_size)\n",
    "draw = image.copy()\n",
    "draw_aruco(draw, arucos, draw_rejected_only=False, draw_ids=False, K=K, D=D)\n",
    "\n",
    "show(draw)"
   ]
  },
  {
   "cell_type": "code",
   "execution_count": null,
   "metadata": {},
   "outputs": [],
   "source": [
    "# detect boxes aruco on multiple images\n",
    "view = \"front\"\n",
    "folder = \"data/test_aruco/\"\n",
    "image_files = sorted(os.listdir(folder))\n",
    "bad_image_files = list()\n",
    "for image_file in image_files:\n",
    "    image = cv2.imread(folder + image_file)\n",
    "    arucos = detect_boxes_aruco(image, view, K, D, box_aruco_size)\n",
    "    draw = image.copy()\n",
    "    draw_aruco(draw, arucos, draw_rejected_only=False, draw_ids=False, K=K, D=D)\n",
    "    # show(draw)\n",
    "    # cv2.imwrite(\"data/test_aruco_vis/\" + image_file, draw)\n",
    "    if arucos.n != 2:\n",
    "        print(f\"{image_file}: {arucos.n}\")\n",
    "        bad_image_files.append(image_file)\n",
    "print(len(bad_image_files))\n",
    "print(bad_image_files)"
   ]
  }
 ],
 "metadata": {
  "interpreter": {
   "hash": "22f35026c99b1f6887daf6f0d1395c99737793caec2cc4fa319b8c5faf2576e1"
  },
  "kernelspec": {
   "display_name": "Python 3.8.3 ('base')",
   "language": "python",
   "name": "python3"
  },
  "language_info": {
   "codemirror_mode": {
    "name": "ipython",
    "version": 3
   },
   "file_extension": ".py",
   "mimetype": "text/x-python",
   "name": "python",
   "nbconvert_exporter": "python",
   "pygments_lexer": "ipython3",
   "version": "3.8.3"
  },
  "orig_nbformat": 4
 },
 "nbformat": 4,
 "nbformat_minor": 2
}
