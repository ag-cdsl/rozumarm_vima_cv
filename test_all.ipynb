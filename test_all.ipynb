{
 "cells": [
  {
   "cell_type": "code",
   "execution_count": 12,
   "metadata": {},
   "outputs": [],
   "source": [
    "%reload_ext autoreload\n",
    "%autoreload 2\n",
    "\n",
    "import cv2\n",
    "import numpy as np\n",
    "import os\n",
    "from aruco import detect_aruco, draw_aruco, select_aruco_poses, PoseSelectors, \\\n",
    "    select_aruco_markers\n",
    "from segmentation import segment_and_draw_boxes_by_aruco\n",
    "from calibrate_table import calibrate_table\n",
    "from utils import show, stream_table_frame, stream_segmented_boxes, \\\n",
    "    stream_aruco_detected_on_boxes\n",
    "from segmentation import segment_boxes_by_color\n",
    "from aruco_detection_configs import aruco_dict, aruco_detection_params"
   ]
  },
  {
   "cell_type": "code",
   "execution_count": 13,
   "metadata": {},
   "outputs": [],
   "source": [
    "calib = np.load('phitz/calib.npz')\n",
    "K = calib['K']\n",
    "D = calib['D']"
   ]
  },
  {
   "cell_type": "code",
   "execution_count": 15,
   "metadata": {},
   "outputs": [],
   "source": [
    "table_aruco_size = 0.132\n",
    "box_aruco_size = 0.0172\n",
    "box_size = 0.03"
   ]
  },
  {
   "cell_type": "code",
   "execution_count": null,
   "metadata": {},
   "outputs": [],
   "source": [
    "# calibrate table\n",
    "image_file = \"phitz/table_markers/1.jpg\"\n",
    "image = cv2.imread(image_file)\n",
    "camera2table, _ = calibrate_table(image, K, D, table_aruco_size)\n",
    "if camera2table is None:\n",
    "    print(\"Could not detect table\")\n",
    "else:\n",
    "    rvec, _ = cv2.Rodrigues(camera2table[0:3, 0:3])\n",
    "    tvec = camera2table[0:3, 3]\n",
    "    draw = image.copy()\n",
    "    cv2.drawFrameAxes(draw, K, D, rvec, tvec, 0.1)\n",
    "    show(draw)"
   ]
  },
  {
   "cell_type": "code",
   "execution_count": 9,
   "metadata": {},
   "outputs": [],
   "source": [
    "# detect table aruco\n",
    "image_file = \"phitz/table_markers/1.jpg\"\n",
    "image = cv2.imread(image_file)\n",
    "arucos = detect_aruco(image, K=K, D=D, aruco_sizes=table_aruco_size, use_generic=True,\n",
    "    aruco_dict=aruco_dict, params=aruco_detection_params)\n",
    "arucos = select_aruco_poses(arucos, PoseSelectors.Z_axis_up)\n",
    "arucos = select_aruco_markers(arucos, lambda id: id < 4)\n",
    "draw = image.copy()\n",
    "draw_aruco(draw, arucos, draw_rejected_only=False, draw_ids=False, K=K, D=D)\n",
    "show(draw)"
   ]
  },
  {
   "cell_type": "code",
   "execution_count": 10,
   "metadata": {},
   "outputs": [],
   "source": [
    "# detect box aruco\n",
    "image_file = \"phitz/test/0000.jpg\"\n",
    "image = cv2.imread(image_file)\n",
    "arucos = detect_aruco(image, K=K, D=D, aruco_sizes=box_aruco_size, use_generic=True,\n",
    "    subtract=100, aruco_dict=aruco_dict, params=aruco_detection_params)\n",
    "arucos = select_aruco_poses(arucos, PoseSelectors.Z_axis_up)\n",
    "arucos = select_aruco_markers(arucos, lambda id: id >= 4)\n",
    "draw = image.copy()\n",
    "draw_aruco(draw, arucos, draw_rejected_only=False, draw_ids=False, K=K, D=D)\n",
    "show(draw)"
   ]
  },
  {
   "cell_type": "code",
   "execution_count": null,
   "metadata": {},
   "outputs": [],
   "source": [
    "# segment boxes\n",
    "image_file = \"phitz/test/0000.jpg\"\n",
    "image = cv2.imread(image_file)\n",
    "mask, (num_red, num_blue) = segment_boxes_by_color(image)\n",
    "draw = image.copy()\n",
    "polygons, _ = cv2.findContours(mask, cv2.RETR_EXTERNAL, cv2.CHAIN_APPROX_SIMPLE)\n",
    "cv2.polylines(draw, polygons, True, (255, 255, 255), thickness=1)\n",
    "overlay = draw.copy()\n",
    "for polygon in polygons:\n",
    "    cv2.fillPoly(overlay, [polygon], (255, 255, 255))\n",
    "cv2.addWeighted(draw, 0.7, overlay, 0.3, 0, dst=draw)\n",
    "print(f\"Segmented {num_red} red, {num_blue} blue boxes\")\n",
    "show(draw)"
   ]
  },
  {
   "cell_type": "code",
   "execution_count": null,
   "metadata": {},
   "outputs": [],
   "source": [
    "# open camera\n",
    "cam = cv2.VideoCapture(2)\n",
    "camera = lambda: cam.read()[1]"
   ]
  },
  {
   "cell_type": "code",
   "execution_count": null,
   "metadata": {},
   "outputs": [],
   "source": [
    "# stream table frame\n",
    "save_folder = None\n",
    "stream_table_frame(camera, K, D, table_aruco_size, save_folder=save_folder)"
   ]
  },
  {
   "cell_type": "code",
   "execution_count": null,
   "metadata": {},
   "outputs": [],
   "source": [
    "# stream segmented boxes\n",
    "save_folder = None\n",
    "stream_segmented_boxes(camera, save_folder=save_folder)"
   ]
  },
  {
   "cell_type": "code",
   "execution_count": null,
   "metadata": {},
   "outputs": [],
   "source": [
    "# stream aruco detected on boxes\n",
    "save_folder = None\n",
    "stream_aruco_detected_on_boxes(camera, K, D, box_aruco_size, save_folder=save_folder)"
   ]
  },
  {
   "cell_type": "code",
   "execution_count": null,
   "metadata": {},
   "outputs": [],
   "source": [
    "# close camera\n",
    "cam.release()"
   ]
  }
 ],
 "metadata": {
  "interpreter": {
   "hash": "916dbcbb3f70747c44a77c7bcd40155683ae19c65e1c03b4aa3499c5328201f1"
  },
  "kernelspec": {
   "display_name": "Python 3.8.10 64-bit",
   "language": "python",
   "name": "python3"
  },
  "language_info": {
   "codemirror_mode": {
    "name": "ipython",
    "version": 3
   },
   "file_extension": ".py",
   "mimetype": "text/x-python",
   "name": "python",
   "nbconvert_exporter": "python",
   "pygments_lexer": "ipython3",
   "version": "3.8.3"
  },
  "orig_nbformat": 4
 },
 "nbformat": 4,
 "nbformat_minor": 2
}
