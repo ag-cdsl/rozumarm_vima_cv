{
 "cells": [
  {
   "cell_type": "code",
   "execution_count": 3,
   "metadata": {},
   "outputs": [],
   "source": [
    "%reload_ext autoreload\n",
    "%autoreload 2\n",
    "\n",
    "import cv2\n",
    "import numpy as np\n",
    "import os\n",
    "import os.path as osp\n",
    "from calibrate_table import calibrate_table_by_aruco, calibrate_table_by_markers\n",
    "from table_markers import get_table_markers_coords_in_table_frame_by_aruco\n",
    "from params import table_aruco_size, box_aruco_size, box_size, K, D, target_table_markers"
   ]
  },
  {
   "cell_type": "code",
   "execution_count": null,
   "metadata": {},
   "outputs": [],
   "source": [
    "view = \"top\"\n",
    "folders = [\"data/test_boxes_distance_aruco/\", \"data/test_boxes_distance_segm/\"]\n",
    "out_folder = None\n",
    "\n",
    "image_files = [list(map(lambda im_file: osp.join(folder, im_file), sorted(os.listdir(folder))))\n",
    "                    for folder in folders]\n",
    "image_files = sum(image_files, [])\n",
    "\n",
    "table_frames = list()\n",
    "for i, image_file in enumerate(image_files):\n",
    "    image = cv2.imread(image_file)\n",
    "    table_frame, _ = calibrate_table_by_aruco(image, view, K, D, table_aruco_size)\n",
    "    assert table_frame is not None\n",
    "    table_frames.append(table_frame)\n",
    "    \n",
    "    if out_folder is not None:\n",
    "        camera2table = table_frame.origin2plane()\n",
    "        rvec, _ = cv2.Rodrigues(camera2table[0:3, 0:3])\n",
    "        tvec = camera2table[0:3, 3]\n",
    "        draw = image.copy()\n",
    "        cv2.drawFrameAxes(draw, K, D, rvec, tvec, 0.1)\n",
    "        cv2.imwrite(osp.join(out_folder, f\"{i}.jpg\"), draw)\n",
    "\n",
    "t_diffs = list()\n",
    "r_diffs = list()\n",
    "n = len(table_frames)\n",
    "for i in range(n - 1):\n",
    "    for j in range(i + 1, n):\n",
    "        table_frame_i = table_frames[i].origin2plane()\n",
    "        table_frame_j = table_frames[j].origin2plane()\n",
    "        diff = np.matmul(np.linalg.inv(table_frame_i), table_frame_j)\n",
    "        t_diff = diff[:3, 3]\n",
    "        r_diff = cv2.Rodrigues(diff[:3, :3])[0].squeeze()\n",
    "        t_diffs.append(t_diff)\n",
    "        r_diffs.append(r_diff)\n",
    "t_diffs = np.array(t_diffs)\n",
    "r_diffs = np.array(r_diffs)\n",
    "\n",
    "max_t_diff = np.max(np.linalg.norm(t_diffs, axis=-1))\n",
    "max_r_diff = np.max(np.linalg.norm(r_diffs, axis=-1))\n",
    "print(f\"Max t diff: {max_t_diff * 100} cm\")\n",
    "print(f\"Max r diff: {max_r_diff * 180 / np.pi} deg\")\n",
    "print()\n",
    "\n",
    "max_t_diff_xy = np.max(np.linalg.norm(t_diffs[:, :2], axis=-1))\n",
    "max_t_diff_z = np.max(t_diffs[:, 2])\n",
    "max_r_diff_z = np.max(r_diffs[:, 2])\n",
    "print(f\"Max t diff xy: {max_t_diff_xy * 100} cm\")\n",
    "print(f\"Max t diff z: {max_t_diff_z * 100} cm\")\n",
    "print(f\"Max r diff z: {max_r_diff_z * 180 / np.pi} deg\")"
   ]
  }
 ],
 "metadata": {
  "kernelspec": {
   "display_name": "base",
   "language": "python",
   "name": "python3"
  },
  "language_info": {
   "codemirror_mode": {
    "name": "ipython",
    "version": 3
   },
   "file_extension": ".py",
   "mimetype": "text/x-python",
   "name": "python",
   "nbconvert_exporter": "python",
   "pygments_lexer": "ipython3",
   "version": "3.8.3"
  },
  "orig_nbformat": 4
 },
 "nbformat": 4,
 "nbformat_minor": 2
}
