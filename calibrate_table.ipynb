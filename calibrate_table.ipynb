{
 "cells": [
  {
   "cell_type": "code",
   "execution_count": 1,
   "metadata": {},
   "outputs": [],
   "source": [
    "%reload_ext autoreload\n",
    "%autoreload 2\n",
    "\n",
    "import cv2\n",
    "import numpy as np\n",
    "import os\n",
    "from calibrate_table import calibrate_table\n",
    "from utils import show\n",
    "from params import table_aruco_size, K, D"
   ]
  },
  {
   "cell_type": "code",
   "execution_count": null,
   "metadata": {},
   "outputs": [],
   "source": [
    "# visualize table frame\n",
    "view = \"front\"\n",
    "image_file = \"data/table_markers/0000.jpg\"\n",
    "image = cv2.imread(image_file)\n",
    "camera2table, _ = calibrate_table(image, view, K, D, table_aruco_size)\n",
    "if camera2table is None:\n",
    "    print(\"Could not detect table\")\n",
    "else:\n",
    "    rvec, _ = cv2.Rodrigues(camera2table[0:3, 0:3])\n",
    "    tvec = camera2table[0:3, 3]\n",
    "    draw = image.copy()\n",
    "    cv2.drawFrameAxes(draw, K, D, rvec, tvec, 0.1)\n",
    "    show(draw)"
   ]
  },
  {
   "cell_type": "code",
   "execution_count": 3,
   "metadata": {},
   "outputs": [],
   "source": [
    "# get table aruco corners in table frame\n",
    "view = \"front\"\n",
    "folder = \"data/table_markers/\"\n",
    "files = sorted(os.listdir(folder))\n",
    "corners_3d_in_table_all = list()\n",
    "for f in files:\n",
    "    image = cv2.imread(folder + f)\n",
    "    camera2table, corners_3d = calibrate_table(image, view, K, D, table_aruco_size)\n",
    "    corners_3d = corners_3d[:, 0, 0, :]\n",
    "    corners_3d = np.expand_dims(np.hstack((corners_3d, np.ones((4, 1)))), axis=-1)\n",
    "    corners_3d_in_table = np.matmul(np.linalg.inv(camera2table), corners_3d)\n",
    "    corners_3d_in_table = corners_3d_in_table[:, 0:3, 0]\n",
    "    corners_3d_in_table_all.append(corners_3d_in_table)\n",
    "\n",
    "corners_3d_in_table_all = np.array(corners_3d_in_table_all)\n",
    "corners_3d_in_table_mean = corners_3d_in_table_all.mean(axis=0)\n"
   ]
  },
  {
   "cell_type": "code",
   "execution_count": 4,
   "metadata": {},
   "outputs": [],
   "source": [
    "corners_3d_in_table_mean.shape\n",
    "np.save('data/aruco_corners.npy', corners_3d_in_table_mean)"
   ]
  }
 ],
 "metadata": {
  "interpreter": {
   "hash": "22f35026c99b1f6887daf6f0d1395c99737793caec2cc4fa319b8c5faf2576e1"
  },
  "kernelspec": {
   "display_name": "Python 3.8.3 ('base')",
   "language": "python",
   "name": "python3"
  },
  "language_info": {
   "codemirror_mode": {
    "name": "ipython",
    "version": 3
   },
   "file_extension": ".py",
   "mimetype": "text/x-python",
   "name": "python",
   "nbconvert_exporter": "python",
   "pygments_lexer": "ipython3",
   "version": "3.8.3"
  },
  "orig_nbformat": 4
 },
 "nbformat": 4,
 "nbformat_minor": 2
}
