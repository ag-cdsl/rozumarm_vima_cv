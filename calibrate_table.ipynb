{
 "cells": [
  {
   "cell_type": "code",
   "execution_count": 1,
   "metadata": {},
   "outputs": [],
   "source": [
    "%reload_ext autoreload\n",
    "%autoreload 2\n",
    "\n",
    "import cv2\n",
    "import numpy as np\n",
    "import os\n",
    "from calibrate_table import calibrate_table_by_aruco\n",
    "from utils import show\n",
    "from params import table_aruco_size, K, D\n",
    "from detection import detect_table_markers_on_image_hsv\n",
    "from shapely.geometry import Polygon"
   ]
  },
  {
   "cell_type": "code",
   "execution_count": null,
   "metadata": {},
   "outputs": [],
   "source": [
    "# visualize table frame\n",
    "view = \"front\"\n",
    "image_file = \"data/table_arucos/0000.jpg\"\n",
    "image = cv2.imread(image_file)\n",
    "table_frame, _ = calibrate_table_by_aruco(image, view, K, D, table_aruco_size)\n",
    "if table_frame is None:\n",
    "    print(\"Could not detect table\")\n",
    "else:\n",
    "    camera2table = table_frame.origin2plane()\n",
    "    rvec, _ = cv2.Rodrigues(camera2table[0:3, 0:3])\n",
    "    tvec = camera2table[0:3, 3]\n",
    "    draw = image.copy()\n",
    "    cv2.drawFrameAxes(draw, K, D, rvec, tvec, 0.1)\n",
    "    show(draw)"
   ]
  },
  {
   "cell_type": "code",
   "execution_count": 3,
   "metadata": {},
   "outputs": [],
   "source": [
    "# get table aruco corners in table frame\n",
    "view = \"front\"\n",
    "folder = \"data/table_arucos/\"\n",
    "files = sorted(os.listdir(folder))\n",
    "corners_3d_in_table_all = list()\n",
    "for f in files:\n",
    "    image = cv2.imread(folder + f)\n",
    "    table_frame, corners_3d = calibrate_table_by_aruco(image, view, K, D, table_aruco_size)\n",
    "    corners_3d = corners_3d[:, 0, 0, :]\n",
    "    # corners_3d.shape = (n, 3)\n",
    "    corners_3d_in_table = table_frame.to_plane(corners_3d)\n",
    "    corners_3d_in_table_all.append(corners_3d_in_table)\n",
    "\n",
    "corners_3d_in_table_all = np.array(corners_3d_in_table_all)\n",
    "corners_3d_in_table_mean = corners_3d_in_table_all.mean(axis=0)"
   ]
  },
  {
   "cell_type": "code",
   "execution_count": 4,
   "metadata": {},
   "outputs": [],
   "source": [
    "corners_3d_in_table_mean.shape\n",
    "np.save('data/aruco_corners.npy', corners_3d_in_table_mean)"
   ]
  },
  {
   "cell_type": "code",
   "execution_count": null,
   "metadata": {},
   "outputs": [],
   "source": [
    "# get markers coords in table frame\n",
    "hsv = cv2.cvtColor(image, cv2.COLOR_BGR2HSV_FULL)\n",
    "table_markers = detect_table_markers_on_image_hsv(hsv, view)\n",
    "assert len(table_markers) == 4\n",
    "# table_markers.shape = (4, 1, 2)\n",
    "\n",
    "table_markers = cv2.undistortPoints(table_markers, K, D)\n",
    "table_markers.sort(key=lambda a, b: np.sign(sum(a) - sum(b)))\n",
    "p = Polygon(table_markers[:, 0, :])\n",
    "if p.exterior.is_ccw:\n",
    "    table_markers[[1, 3]] = table_markers[[3, 1]]\n",
    "    p = Polygon(table_markers[:, 0, :])\n",
    "assert p.exterior.is_simple and not p.exterior.is_ccw\n",
    "\n",
    "table_markers = table_markers[:, 0, :]\n",
    "table_markers = np.hstack((table_markers, np.ones((len(table_markers), 1))))\n",
    "table_markers_3d = table_frame.intersection_with_plane(table_markers)\n",
    "table_markers_2d = table_markers_3d[:, :2]"
   ]
  },
  {
   "cell_type": "code",
   "execution_count": null,
   "metadata": {},
   "outputs": [],
   "source": [
    "table_markers_3d\n",
    "np.save('data/table_markers.npy', table_markers_2d)"
   ]
  }
 ],
 "metadata": {
  "interpreter": {
   "hash": "22f35026c99b1f6887daf6f0d1395c99737793caec2cc4fa319b8c5faf2576e1"
  },
  "kernelspec": {
   "display_name": "Python 3.8.3 ('base')",
   "language": "python",
   "name": "python3"
  },
  "language_info": {
   "codemirror_mode": {
    "name": "ipython",
    "version": 3
   },
   "file_extension": ".py",
   "mimetype": "text/x-python",
   "name": "python",
   "nbconvert_exporter": "python",
   "pygments_lexer": "ipython3",
   "version": "3.8.3"
  },
  "orig_nbformat": 4
 },
 "nbformat": 4,
 "nbformat_minor": 2
}
