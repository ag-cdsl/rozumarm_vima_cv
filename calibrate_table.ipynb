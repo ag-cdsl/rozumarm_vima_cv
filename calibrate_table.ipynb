{
 "cells": [
  {
   "cell_type": "code",
   "execution_count": 22,
   "metadata": {},
   "outputs": [],
   "source": [
    "%reload_ext autoreload\n",
    "%autoreload 2\n",
    "\n",
    "import cv2\n",
    "import numpy as np\n",
    "import os\n",
    "from aruco import detect_aruco, draw_aruco, select_aruco_poses, PoseSelectors\n",
    "from segment_boxes import segment_and_draw_boxes_by_aruco\n",
    "from utils import show\n",
    "from calibrate_table import calibrate_table"
   ]
  },
  {
   "cell_type": "code",
   "execution_count": 3,
   "metadata": {},
   "outputs": [],
   "source": [
    "dict_4x4 = cv2.aruco.Dictionary_get(cv2.aruco.DICT_4X4_1000)\n",
    "params = cv2.aruco.DetectorParameters_create()\n",
    "params.cornerRefinementMethod = cv2.aruco.CORNER_REFINE_APRILTAG\n",
    "params.perspectiveRemovePixelPerCell = 8\n",
    "params.perspectiveRemoveIgnoredMarginPerCell = 0.26"
   ]
  },
  {
   "cell_type": "code",
   "execution_count": 29,
   "metadata": {},
   "outputs": [],
   "source": [
    "calib = np.load('phitz/calib.npz')\n",
    "K = calib['K']\n",
    "D = calib['D']"
   ]
  },
  {
   "cell_type": "code",
   "execution_count": 30,
   "metadata": {},
   "outputs": [],
   "source": [
    "folder = \"phitz/table_markers/\"\n",
    "files = sorted(os.listdir(folder))\n",
    "corners_3d_in_table_all = list()\n",
    "for f in files:\n",
    "    image = cv2.imread(folder + f)\n",
    "    camera2table, corners_3d = calibrate_table(image, 0.132, K, D,\n",
    "        dict_4x4, params)\n",
    "    corners_3d = corners_3d[:, 0, 0, :]\n",
    "    corners_3d = np.expand_dims(np.hstack((corners_3d, np.ones((4, 1)))), axis=-1)\n",
    "    corners_3d_in_table = np.matmul(np.linalg.inv(camera2table), corners_3d)\n",
    "    corners_3d_in_table = corners_3d_in_table[:, 0:3, 0]\n",
    "    corners_3d_in_table_all.append(corners_3d_in_table)\n",
    "\n",
    "corners_3d_in_table_all = np.array(corners_3d_in_table_all)\n"
   ]
  },
  {
   "cell_type": "code",
   "execution_count": 33,
   "metadata": {},
   "outputs": [],
   "source": [
    "corners_3d_in_table_mean = corners_3d_in_table_all.mean(axis=0)\n",
    "corners_3d_in_table_mean.shape\n",
    "np.save('phitz/aruco_corners.npy', corners_3d_in_table_mean)"
   ]
  }
 ],
 "metadata": {
  "interpreter": {
   "hash": "22f35026c99b1f6887daf6f0d1395c99737793caec2cc4fa319b8c5faf2576e1"
  },
  "kernelspec": {
   "display_name": "Python 3.8.3 ('base')",
   "language": "python",
   "name": "python3"
  },
  "language_info": {
   "codemirror_mode": {
    "name": "ipython",
    "version": 3
   },
   "file_extension": ".py",
   "mimetype": "text/x-python",
   "name": "python",
   "nbconvert_exporter": "python",
   "pygments_lexer": "ipython3",
   "version": "3.8.3"
  },
  "orig_nbformat": 4
 },
 "nbformat": 4,
 "nbformat_minor": 2
}
